{
 "cells": [
  {
   "cell_type": "code",
   "execution_count": null,
   "id": "9bda9f13",
   "metadata": {},
   "outputs": [
    {
     "ename": "",
     "evalue": "",
     "output_type": "error",
     "traceback": [
      "\u001b[1;31mFailed to start the Kernel 'python-env-311 (Python 3.11.11)'. \n",
      "\u001b[1;31mView Jupyter <a href='command:jupyter.viewOutput'>log</a> for further details. listen EFAULT: bad address in system call argument 0.0.0.0:9000"
     ]
    }
   ],
   "source": [
    "import pandas as pd\n",
    "\n",
    "# 엑셀 파일 로드 (파일 경로를 실제 경로로 변경)\n",
    "data = pd.read_excel('sp500_stock_data.xlsx')\n",
    "\n",
    "# TSV 형식으로 저장\n",
    "data.to_csv('sp500_stock_data.tsv', sep='\\t', index=False)"
   ]
  }
 ],
 "metadata": {
  "kernelspec": {
   "display_name": "python-env-311",
   "language": "python",
   "name": "python3"
  },
  "language_info": {
   "name": "python",
   "version": "3.11.11"
  }
 },
 "nbformat": 4,
 "nbformat_minor": 5
}
